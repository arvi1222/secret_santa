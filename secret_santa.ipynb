{
 "cells": [
  {
   "cell_type": "code",
   "execution_count": 2,
   "metadata": {
    "collapsed": false
   },
   "outputs": [
    {
     "name": "stdout",
     "output_type": "stream",
     "text": [
      "alena -> mands\n",
      "ellie -> jes\n",
      "ed -> yana\n",
      "al -> alena\n",
      "jes -> emerson\n",
      "arvi -> te\n",
      "mands -> domo\n",
      "aren -> gabe\n",
      "jas -> arvi\n",
      "brian -> leni\n",
      "tin -> dana_te\n",
      "te -> tin\n",
      "domo -> aren\n",
      "leni -> roxie\n",
      "brett -> jas\n",
      "drew -> brian\n",
      "roxie -> maria\n",
      "dana_te -> drew\n",
      "maria -> brett\n",
      "ate -> robin\n",
      "emerson -> ed\n",
      "yana -> al\n",
      "gabe -> ate\n",
      "robin -> ellie\n"
     ]
    }
   ],
   "source": [
    "import random\n",
    "\n",
    "#restricted matches\n",
    "al = ['ed', 'maria']\n",
    "alena = ['emerson', 'ate', 'brian']\n",
    "mands = ['arvi', 'yana', 'aren', 'drew', 'robin']\n",
    "aren = ['arvi', 'yana', 'mands', 'drew', 'robin']\n",
    "yana = ['arvi', 'mands', 'aren', 'drew', 'robin']\n",
    "arvi = ['robin', 'mands', 'yana', 'aren', 'drew']\n",
    "brett = ['tin', 'roxie', 'ellie']\n",
    "brian = ['ate', 'emerson', 'alena']\n",
    "te = ['jas', 'gabe', 'dana_te']\n",
    "dana_te = ['te', 'jas', 'gabe']\n",
    "drew = ['mands', 'arvi', 'aren', 'yana', 'robin']\n",
    "ed = ['al', 'maria']\n",
    "ellie = ['brett', 'tin', 'roxie']\n",
    "emerson = ['ate', 'alena', 'brian']\n",
    "gabe = ['jas', 'te', 'dana_te']\n",
    "jas = ['gabe', 'te', 'dana_te']\n",
    "jes = ['domo']\n",
    "maria = ['al', 'ed']\n",
    "robin = ['arvi', 'aren', 'yana', 'drew', 'mands']\n",
    "roxie = ['brett', 'tin', 'ellie']\n",
    "tin = ['ellie', 'brett', 'roxie']\n",
    "ate = ['brian', 'kim', 'alena']\n",
    "domo = ['jes']\n",
    "leni = []\n",
    "\n",
    "#combine restriction lists into dictionary\n",
    "restrictions = {'al': al, 'alena': alena, 'mands': mands, 'aren':aren, 'yana':yana, 'arvi':arvi, 'brett':brett, \\\n",
    "          'brian': brian, 'te': te, 'dana_te': dana_te, 'drew': drew, 'ed': ed, 'ellie': ellie, 'emerson':emerson, \\\n",
    "          'gabe': gabe, 'jas': jas, 'jes': jes, 'maria': maria, 'robin': robin, 'roxie': roxie, \\\n",
    "          'tin': tin, 'ate': ate, 'domo': domo, 'leni': leni}\n",
    "\n",
    "\n",
    "\n",
    "#checks if the person being matched has any possible matches from remaining unmatched pool\n",
    "def is_matchable(person, pos_matches):\n",
    "    result = False\n",
    "    \n",
    "    for possible_match in pos_matches:\n",
    "        if possible_match != person and possible_match not in restrictions[person]:\n",
    "            result = True\n",
    "    return result\n",
    "\n",
    "#creates secret santa list from list of possible santas\n",
    "#returns match list if possible, None if not\n",
    "def make_secret_santa_list(restrictions_list):\n",
    "    unmatched = restrictions_list.keys()\n",
    "    matches = {}\n",
    "    \n",
    "    for person in restrictions_list:\n",
    "        not_matched = True\n",
    "        finished = True\n",
    "    \n",
    "        if  not is_matchable(person, unmatched):\n",
    "            print(\"run again\\n\")\n",
    "            not_matched = False\n",
    "            finished = False\n",
    "    \n",
    "        while not_matched:\n",
    "            i = random.randint(0, len(unmatched)-1)\n",
    "            if person != unmatched[i] and unmatched[i] not in restrictions_list[person]:\n",
    "                matches[person] = unmatched[i]\n",
    "                unmatched.pop(i)\n",
    "                not_matched = False\n",
    "                \n",
    "    if finished:\n",
    "        return matches\n",
    "    else:\n",
    "        return None\n",
    "\n",
    "#actually make the list\n",
    "secret_santa_list = make_secret_santa_list(restrictions)\n",
    "\n",
    "#keep trying to make a list until a valid one is returned\n",
    "while not secret_santa_list:\n",
    "    secret_santa_list = make_secret_santa_list(restrictions)\n",
    "\n",
    "#print out secret santa list\n",
    "for key, value in secret_santa_list.iteritems():\n",
    "        print(\"{} -> {}\".format(key, value))"
   ]
  },
  {
   "cell_type": "markdown",
   "metadata": {},
   "source": [
    "Everything below this is test stuff"
   ]
  },
  {
   "cell_type": "code",
   "execution_count": 57,
   "metadata": {
    "collapsed": false
   },
   "outputs": [
    {
     "name": "stdout",
     "output_type": "stream",
     "text": [
      "{'al': ['ed', 'maria'],\n",
      " 'alena': ['emerson', 'ate', 'brian'],\n",
      " 'aren': ['arvi', 'yana', 'mands', 'drew', 'robin'],\n",
      " 'arvi': ['robin', 'mands', 'aren', 'yana', 'drew'],\n",
      " 'ate': ['brian', 'emerson', 'alena'],\n",
      " 'brett': ['tin', 'roxie', 'ellie'],\n",
      " 'brian': ['ate', 'emerson', 'alena'],\n",
      " 'dana_te': ['te', 'jas', 'gabe'],\n",
      " 'domo': ['jes'],\n",
      " 'drew': ['mands', 'arvi', 'aren', 'yana', 'robin'],\n",
      " 'ed': ['al', 'maria'],\n",
      " 'ellie': ['brett', 'tin', 'roxie'],\n",
      " 'emerson': ['ate', 'alena', 'brian'],\n",
      " 'gabe': ['jas', 'te', 'dana_te'],\n",
      " 'jas': ['gabe', 'te', 'dana_te'],\n",
      " 'jes': ['domo'],\n",
      " 'leni': [],\n",
      " 'mands': ['arvi', 'yana', 'aren', 'drew', 'robin'],\n",
      " 'maria': ['al', 'ed'],\n",
      " 'robin': ['arvi', 'aren', 'yana', 'drew', 'mands'],\n",
      " 'roxie': ['brett', 'tin', 'ellie'],\n",
      " 'te': ['jas', 'gabe', 'dana_te'],\n",
      " 'tin': ['ellie', 'brett', 'roxie'],\n",
      " 'yana': ['arvi', 'mands', 'aren', 'drew', 'robin']}\n"
     ]
    }
   ],
   "source": [
    "#todo\n",
    "#import csv, make into function\n",
    "#validate csv (each restriction is also a secret santa)\n",
    "\n",
    "import pandas as pd\n",
    "import pprint\n",
    "\n",
    "filename = 'restrictions.csv'\n",
    "\n",
    "#returns dictionary of list of restrictions for each secret santa\n",
    "#param f must be csv\n",
    "def create_restrictions(f):\n",
    "\n",
    "    df = pd.read_csv(f)\n",
    "    \n",
    "    #list of all secret santas\n",
    "    s_santas = list(df.columns)\n",
    "\n",
    "    restrictions = {}\n",
    "\n",
    "    for santa in s_santas:\n",
    "        restrictions[santa] = list(df.loc[:,santa].dropna())\n",
    "        \n",
    "    return validate_restrictions_list(restrictions)\n",
    "\n",
    "#takes dictionary of lists as argument\n",
    "#checks that each restriction on the list is an actual santa\n",
    "def validate_restrictions_list(res_dict):\n",
    "    result = res_dict\n",
    "    santas = res_dict.keys()\n",
    "    for santa in santas:\n",
    "        for restriction in res_dict[santa]:\n",
    "            if restriction not in santas:\n",
    "                print(restriction + \" is not a possible santa! for \" + santa)\n",
    "                result = None\n",
    "    return result\n",
    "        \n",
    "    \n",
    "restrictions_from_csv = create_restrictions(filename)\n",
    "pprint.pprint(restrictions_from_csv)"
   ]
  },
  {
   "cell_type": "code",
   "execution_count": 51,
   "metadata": {
    "collapsed": false
   },
   "outputs": [
    {
     "name": "stdout",
     "output_type": "stream",
     "text": [
      "alena -> leni\n",
      "ellie -> robin\n",
      "ed -> aren\n",
      "al -> drew\n",
      "jes -> mands\n",
      "arvi -> te\n",
      "mands -> emerson\n",
      "aren -> jas\n",
      "jas -> tin\n",
      "brian -> jes\n",
      "tin -> gabe\n",
      "te -> roxie\n",
      "domo -> brett\n",
      "leni -> ellie\n",
      "brett -> domo\n",
      "drew -> dana_te\n",
      "roxie -> maria\n",
      "dana_te -> alena\n",
      "maria -> arvi\n",
      "ate -> al\n",
      "emerson -> yana\n",
      "yana -> ate\n",
      "gabe -> brian\n",
      "robin -> ed\n"
     ]
    }
   ],
   "source": [
    "#run secret santa\n",
    "\n",
    "secret_santa_list = make_secret_santa_list(restrictions_from_csv)\n",
    "\n",
    "#keep trying to make a list until a valid one is returned\n",
    "while not secret_santa_list:\n",
    "    secret_santa_list = make_secret_santa_list(restrictions_from_csv)\n",
    "\n",
    "#print out secret santa list\n",
    "for key, value in secret_santa_list.iteritems():\n",
    "        print(\"{} -> {}\".format(key, value))"
   ]
  },
  {
   "cell_type": "code",
   "execution_count": 67,
   "metadata": {
    "collapsed": false
   },
   "outputs": [
    {
     "name": "stdout",
     "output_type": "stream",
     "text": [
      "{'alena': defaultdict(<type 'int'>, {}), 'ellie': defaultdict(<type 'int'>, {}), 'ed': defaultdict(<type 'int'>, {}), 'al': defaultdict(<type 'int'>, {}), 'jes': defaultdict(<type 'int'>, {}), 'arvi': defaultdict(<type 'int'>, {}), 'mands': defaultdict(<type 'int'>, {}), 'aren': defaultdict(<type 'int'>, {}), 'jas': defaultdict(<type 'int'>, {}), 'brian': defaultdict(<type 'int'>, {}), 'tin': defaultdict(<type 'int'>, {}), 'te': defaultdict(<type 'int'>, {}), 'domo': defaultdict(<type 'int'>, {}), 'leni': defaultdict(<type 'int'>, {}), 'brett': defaultdict(<type 'int'>, {}), 'drew': defaultdict(<type 'int'>, {}), 'roxie': defaultdict(<type 'int'>, {}), 'dana_te': defaultdict(<type 'int'>, {}), 'maria': defaultdict(<type 'int'>, {}), 'ate': defaultdict(<type 'int'>, {}), 'emerson': defaultdict(<type 'int'>, {}), 'yana': defaultdict(<type 'int'>, {}), 'gabe': defaultdict(<type 'int'>, {}), 'robin': defaultdict(<type 'int'>, {})}\n"
     ]
    }
   ],
   "source": [
    "#todo\n",
    "#run tests to see if each person has the same percentage to get everyone else\n",
    "from collections import defaultdict\n",
    "\n",
    "def test_secret_santa_outcomes(restrictions_dict):\n",
    "    iterations = 1000\n",
    "    result = {}\n",
    "    secret_santas = restrictions.keys()\n",
    "    \n",
    "    #create result dictionary\n",
    "    for santa in secret_santas:\n",
    "        result[santa] = defaultdict(int)\n",
    "\n",
    "    #loop through several iterations to see if outcomes happen equally\n",
    "    for i in range(iterations):\n",
    "        secret_santa_result = \n",
    "        \n",
    "    return result    \n",
    "    \n",
    "print(test_secret_santa_outcomes(restrictions_from_csv))"
   ]
  },
  {
   "cell_type": "code",
   "execution_count": null,
   "metadata": {
    "collapsed": true
   },
   "outputs": [],
   "source": [
    "#todo\n",
    "#create sometype of user input"
   ]
  }
 ],
 "metadata": {
  "anaconda-cloud": {},
  "kernelspec": {
   "display_name": "Python [conda env:DAND]",
   "language": "python",
   "name": "conda-env-DAND-py"
  },
  "language_info": {
   "codemirror_mode": {
    "name": "ipython",
    "version": 2
   },
   "file_extension": ".py",
   "mimetype": "text/x-python",
   "name": "python",
   "nbconvert_exporter": "python",
   "pygments_lexer": "ipython2",
   "version": "2.7.12"
  }
 },
 "nbformat": 4,
 "nbformat_minor": 2
}
