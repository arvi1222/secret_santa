{
 "cells": [
  {
   "cell_type": "code",
   "execution_count": 102,
   "metadata": {
    "collapsed": false
   },
   "outputs": [],
   "source": [
    "import random\n",
    "\n",
    "#restricted matches\n",
    "al = ['ed', 'maria']\n",
    "alena = ['emerson', 'ate', 'brian']\n",
    "mands = ['arvi', 'yana', 'aren', 'drew', 'robin']\n",
    "aren = ['arvi', 'yana', 'mands', 'drew', 'robin']\n",
    "yana = ['arvi', 'mands', 'aren', 'drew', 'robin']\n",
    "arvi = ['robin', 'mands', 'yana', 'aren', 'drew']\n",
    "brett = ['tin', 'roxie', 'ellie']\n",
    "brian = ['ate', 'emerson', 'alena']\n",
    "te = ['jas', 'gabe', 'dana_te']\n",
    "dana_te = ['te', 'jas', 'gabe']\n",
    "drew = ['mands', 'arvi', 'aren', 'yana', 'robin']\n",
    "ed = ['al', 'maria']\n",
    "ellie = ['brett', 'tin', 'roxie']\n",
    "emerson = ['ate', 'alena', 'brian']\n",
    "gabe = ['jas', 'te', 'dana_te']\n",
    "jas = ['gabe', 'te', 'dana_te']\n",
    "jes = ['domo']\n",
    "maria = ['al', 'ed']\n",
    "robin = ['arvi', 'aren', 'yana', 'drew', 'mands']\n",
    "roxie = ['brett', 'tin', 'ellie']\n",
    "tin = ['ellie', 'brett', 'roxie']\n",
    "ate = ['brian', 'emerson', 'alena']\n",
    "domo = ['jes']\n",
    "leni = []\n",
    "\n",
    "#combine restriction lists into dictionary\n",
    "restrictions = {'al': al, 'alena': alena, 'mands': mands, 'aren':aren, 'yana':yana, 'arvi':arvi, 'brett':brett, \\\n",
    "          'brian': brian, 'te': te, 'dana_te': dana_te, 'drew': drew, 'ed': ed, 'ellie': ellie, 'emerson':emerson, \\\n",
    "          'gabe': gabe, 'jas': jas, 'jes': jes, 'maria': maria, 'robin': robin, 'roxie': roxie, \\\n",
    "          'tin': tin, 'ate': ate, 'domo': domo, 'leni': leni}\n",
    "\n",
    "#checks if the person being matched has any possible matches from remaining unmatched pool\n",
    "def is_matchable(person, pos_matches):\n",
    "    result = False\n",
    "    \n",
    "    for possible_match in pos_matches:\n",
    "        if possible_match != person and possible_match not in restrictions[person]:\n",
    "            result = True\n",
    "    return result\n",
    "\n",
    "#creates secret santa list from list of possible santas\n",
    "#returns match list if possible, None if not\n",
    "def match_santas(restrictions_dict):\n",
    "    unmatched = restrictions_dict.keys()\n",
    "    matches = {}\n",
    "    \n",
    "    for person in restrictions_dict:\n",
    "        not_matched = True\n",
    "        finished = True\n",
    "    \n",
    "        if not is_matchable(person, unmatched):\n",
    "            not_matched = False\n",
    "            finished = False\n",
    "    \n",
    "        while not_matched:\n",
    "            i = random.randint(0, len(unmatched)-1)\n",
    "            if person != unmatched[i] and unmatched[i] not in restrictions_dict[person]:\n",
    "                matches[person] = unmatched[i]\n",
    "                unmatched.pop(i)\n",
    "                not_matched = False\n",
    "                \n",
    "    if finished and len(matches) == 24:\n",
    "        return matches\n",
    "    else:\n",
    "        return None\n",
    "\n",
    "#return a complete secret santa list\n",
    "def make_secret_santa_list(restrictions_dict):\n",
    "    result = None\n",
    "    \n",
    "    #check that every santa is matched\n",
    "    while not result:\n",
    "        result = match_santas(restrictions)\n",
    "    \n",
    "    return result\n",
    "\n",
    "\n",
    "#print out secret santa list\n",
    "def print_secret_santa_list(restrictions_dict):\n",
    "    for key, value in make_secret_santa_list(restrictions_dict).iteritems():\n",
    "        print(\"{} -> {}\".format(key, value))       "
   ]
  },
  {
   "cell_type": "code",
   "execution_count": 104,
   "metadata": {
    "collapsed": false
   },
   "outputs": [
    {
     "name": "stdout",
     "output_type": "stream",
     "text": [
      "alena -> leni\n",
      "ellie -> ate\n",
      "ed -> drew\n",
      "al -> brian\n",
      "jes -> mands\n",
      "arvi -> domo\n",
      "mands -> dana_te\n",
      "aren -> tin\n",
      "jas -> ellie\n",
      "brian -> gabe\n",
      "tin -> arvi\n",
      "te -> roxie\n",
      "domo -> alena\n",
      "leni -> yana\n",
      "brett -> robin\n",
      "drew -> maria\n",
      "roxie -> aren\n",
      "dana_te -> al\n",
      "maria -> te\n",
      "ate -> brett\n",
      "emerson -> jes\n",
      "yana -> jas\n",
      "gabe -> ed\n",
      "robin -> emerson\n"
     ]
    }
   ],
   "source": [
    "print_secret_santa_list(restrictions)"
   ]
  },
  {
   "cell_type": "markdown",
   "metadata": {},
   "source": [
    "Everything below this is test stuff"
   ]
  },
  {
   "cell_type": "code",
   "execution_count": 72,
   "metadata": {
    "collapsed": false
   },
   "outputs": [],
   "source": [
    "import pandas as pd\n",
    "import pprint\n",
    "\n",
    "filename = 'restrictions.csv'\n",
    "\n",
    "#returns dictionary of list of restrictions for each secret santa\n",
    "#param f must be csv\n",
    "def create_restrictions(f):\n",
    "\n",
    "    df = pd.read_csv(f)\n",
    "    \n",
    "    #list of all secret santas\n",
    "    s_santas = list(df.columns)\n",
    "\n",
    "    restrictions = {}\n",
    "\n",
    "    for santa in s_santas:\n",
    "        restrictions[santa] = list(df.loc[:,santa].dropna())\n",
    "        \n",
    "    return validate_restrictions_list(restrictions)\n",
    "\n",
    "#takes dictionary of lists as argument\n",
    "#checks that each restriction on the list is an actual santa\n",
    "def validate_restrictions_list(res_dict):\n",
    "    result = res_dict\n",
    "    santas = res_dict.keys()\n",
    "    for santa in santas:\n",
    "        for restriction in res_dict[santa]:\n",
    "            if restriction not in santas:\n",
    "                print(restriction + \" is not a possible santa! for \" + santa)\n",
    "                result = None\n",
    "    return result"
   ]
  },
  {
   "cell_type": "code",
   "execution_count": 40,
   "metadata": {
    "collapsed": false
   },
   "outputs": [
    {
     "name": "stdout",
     "output_type": "stream",
     "text": [
      "{'al': ['ed', 'maria'],\n",
      " 'alena': ['emerson', 'ate', 'brian'],\n",
      " 'aren': ['arvi', 'yana', 'mands', 'drew', 'robin'],\n",
      " 'arvi': ['robin', 'mands', 'aren', 'yana', 'drew'],\n",
      " 'ate': ['brian', 'emerson', 'alena'],\n",
      " 'brett': ['tin', 'roxie', 'ellie'],\n",
      " 'brian': ['ate', 'emerson', 'alena'],\n",
      " 'dana_te': ['te', 'jas', 'gabe'],\n",
      " 'domo': ['jes'],\n",
      " 'drew': ['mands', 'arvi', 'aren', 'yana', 'robin'],\n",
      " 'ed': ['al', 'maria'],\n",
      " 'ellie': ['brett', 'tin', 'roxie'],\n",
      " 'emerson': ['ate', 'alena', 'brian'],\n",
      " 'gabe': ['jas', 'te', 'dana_te'],\n",
      " 'jas': ['gabe', 'te', 'dana_te'],\n",
      " 'jes': ['domo'],\n",
      " 'leni': [],\n",
      " 'mands': ['arvi', 'yana', 'aren', 'drew', 'robin'],\n",
      " 'maria': ['al', 'ed'],\n",
      " 'robin': ['arvi', 'aren', 'yana', 'drew', 'mands'],\n",
      " 'roxie': ['brett', 'tin', 'ellie'],\n",
      " 'te': ['jas', 'gabe', 'dana_te'],\n",
      " 'tin': ['ellie', 'brett', 'roxie'],\n",
      " 'yana': ['arvi', 'mands', 'aren', 'drew', 'robin']}\n"
     ]
    }
   ],
   "source": [
    "#check that restrictions works\n",
    "\n",
    "restrictions_from_csv = create_restrictions(filename)\n",
    "pprint.pprint(restrictions_from_csv)"
   ]
  },
  {
   "cell_type": "code",
   "execution_count": 41,
   "metadata": {
    "collapsed": false
   },
   "outputs": [
    {
     "name": "stdout",
     "output_type": "stream",
     "text": [
      "alena -> gabe\n",
      "ellie -> leni\n",
      "ed -> dana_te\n",
      "al -> jas\n",
      "jes -> robin\n",
      "arvi -> ellie\n",
      "mands -> al\n",
      "aren -> domo\n",
      "jas -> drew\n",
      "brian -> arvi\n",
      "tin -> ed\n",
      "te -> tin\n",
      "domo -> maria\n",
      "leni -> brett\n",
      "brett -> alena\n",
      "drew -> brian\n",
      "roxie -> aren\n",
      "dana_te -> roxie\n",
      "maria -> emerson\n",
      "ate -> jes\n",
      "emerson -> mands\n",
      "yana -> te\n",
      "gabe -> yana\n",
      "robin -> ate\n"
     ]
    }
   ],
   "source": [
    "print_secret_santa_list(restrictions_from_csv)"
   ]
  },
  {
   "cell_type": "code",
   "execution_count": 116,
   "metadata": {
    "collapsed": false
   },
   "outputs": [
    {
     "name": "stdout",
     "output_type": "stream",
     "text": [
      "{'al': defaultdict(<type 'int'>, {'jes': 2222, 'arvi': 2551, 'ate': 2410, 'alena': 2400, 'mands': 2518, 'domo': 2332, 'emerson': 2393, 'leni': 2304, 'brett': 2376, 'jas': 2341, 'drew': 2523, 'aren': 2546, 'roxie': 2324, 'brian': 2401, 'ellie': 2292, 'gabe': 2267, 'yana': 2482, 'dana_te': 2276, 'te': 2380, 'robin': 2414, 'tin': 2248}),\n",
      " 'alena': defaultdict(<type 'int'>, {'jes': 2388, 'arvi': 2625, 'gabe': 2439, 'mands': 2675, 'domo': 2430, 'aren': 2689, 'ed': 2458, 'leni': 2445, 'brett': 2445, 'jas': 2494, 'drew': 2717, 'al': 2480, 'roxie': 2452, 'ellie': 2484, 'maria': 2341, 'yana': 2648, 'dana_te': 2425, 'te': 2341, 'robin': 2677, 'tin': 2347}),\n",
      " 'aren': defaultdict(<type 'int'>, {'jes': 2791, 'ate': 2853, 'roxie': 2772, 'alena': 2710, 'domo': 2770, 'al': 2942, 'ed': 2947, 'leni': 2695, 'dana_te': 2562, 'brett': 2726, 'tin': 2837, 'jas': 2646, 'gabe': 2615, 'brian': 2844, 'emerson': 2804, 'ellie': 2847, 'te': 2606, 'maria': 3033}),\n",
      " 'arvi': defaultdict(<type 'int'>, {'jes': 2769, 'ate': 2787, 'alena': 2826, 'domo': 2861, 'emerson': 2775, 'ed': 2908, 'leni': 2714, 'brett': 2751, 'al': 2998, 'jas': 2580, 'roxie': 2800, 'brian': 2763, 'ellie': 2836, 'gabe': 2552, 'tin': 2809, 'dana_te': 2612, 'te': 2658, 'maria': 3001}),\n",
      " 'ate': defaultdict(<type 'int'>, {'jes': 1971, 'arvi': 2732, 'te': 2431, 'mands': 2720, 'domo': 2039, 'aren': 2794, 'ed': 2368, 'leni': 1883, 'brett': 2695, 'ellie': 2632, 'drew': 2700, 'jas': 2406, 'roxie': 2609, 'tin': 2629, 'yana': 2796, 'dana_te': 2486, 'gabe': 2419, 'robin': 2875, 'al': 2413, 'maria': 2402}),\n",
      " 'brett': defaultdict(<type 'int'>, {'jes': 2466, 'arvi': 2791, 'ate': 2266, 'alena': 2301, 'mands': 2828, 'domo': 2411, 'aren': 2814, 'ed': 2359, 'leni': 2320, 'jas': 2414, 'drew': 2822, 'al': 2251, 'brian': 2300, 'emerson': 2303, 'yana': 2844, 'dana_te': 2414, 'te': 2453, 'gabe': 2443, 'robin': 2845, 'maria': 2355}),\n",
      " 'brian': defaultdict(<type 'int'>, {'jes': 2282, 'arvi': 3001, 'gabe': 2275, 'mands': 3014, 'domo': 2256, 'aren': 2966, 'ed': 2410, 'leni': 2144, 'brett': 2282, 'al': 2326, 'drew': 2982, 'jas': 2266, 'roxie': 2332, 'tin': 2333, 'yana': 3039, 'ellie': 2213, 'dana_te': 2305, 'te': 2288, 'robin': 2944, 'maria': 2342}),\n",
      " 'dana_te': defaultdict(<type 'int'>, {'jes': 2172, 'arvi': 2993, 'ate': 2077, 'mands': 3001, 'alena': 2062, 'domo': 2140, 'aren': 3101, 'ed': 2055, 'leni': 1969, 'brett': 2837, 'tin': 2792, 'drew': 2980, 'al': 2092, 'roxie': 2857, 'brian': 2121, 'emerson': 2021, 'yana': 2872, 'ellie': 2944, 'robin': 2931, 'maria': 1983}),\n",
      " 'domo': defaultdict(<type 'int'>, {'alena': 2166, 'ed': 2132, 'al': 2013, 'tin': 2134, 'arvi': 2595, 'mands': 2609, 'aren': 2564, 'jas': 2276, 'brian': 2105, 'ellie': 2167, 'te': 2234, 'leni': 1895, 'brett': 2243, 'drew': 2575, 'roxie': 2201, 'dana_te': 2266, 'maria': 2096, 'ate': 2110, 'emerson': 2088, 'yana': 2628, 'gabe': 2255, 'robin': 2648}),\n",
      " 'drew': defaultdict(<type 'int'>, {'jes': 2763, 'ate': 2728, 'alena': 2733, 'ellie': 3044, 'al': 2572, 'ed': 2557, 'leni': 2663, 'domo': 2747, 'brett': 3159, 'jas': 2803, 'gabe': 2756, 'roxie': 3016, 'brian': 2618, 'emerson': 2499, 'maria': 2593, 'dana_te': 2809, 'te': 2737, 'tin': 3203}),\n",
      " 'ed': defaultdict(<type 'int'>, {'jes': 2349, 'arvi': 2549, 'ate': 2358, 'alena': 2374, 'mands': 2487, 'domo': 2237, 'aren': 2504, 'jas': 2303, 'leni': 2294, 'brett': 2291, 'ellie': 2350, 'drew': 2544, 'gabe': 2342, 'roxie': 2259, 'brian': 2409, 'emerson': 2484, 'yana': 2488, 'dana_te': 2291, 'te': 2331, 'robin': 2466, 'tin': 2290}),\n",
      " 'ellie': defaultdict(<type 'int'>, {'jes': 2308, 'arvi': 2944, 'gabe': 2235, 'alena': 2449, 'mands': 2866, 'domo': 2249, 'aren': 3059, 'ed': 2345, 'leni': 2113, 'jas': 2309, 'drew': 2867, 'al': 2322, 'brian': 2368, 'emerson': 2406, 'ate': 2415, 'yana': 2923, 'dana_te': 2204, 'te': 2285, 'robin': 2909, 'maria': 2424}),\n",
      " 'emerson': defaultdict(<type 'int'>, {'jes': 1991, 'arvi': 2734, 'gabe': 2431, 'mands': 2701, 'domo': 2091, 'aren': 2716, 'ed': 2363, 'leni': 1896, 'brett': 2705, 'al': 2321, 'drew': 2819, 'jas': 2502, 'roxie': 2675, 'tin': 2696, 'yana': 2719, 'ellie': 2623, 'dana_te': 2417, 'te': 2447, 'robin': 2779, 'maria': 2374}),\n",
      " 'gabe': defaultdict(<type 'int'>, {'jes': 1536, 'arvi': 3403, 'ate': 2893, 'alena': 2896, 'mands': 3314, 'domo': 1584, 'aren': 3259, 'ed': 1801, 'leni': 1512, 'brett': 2000, 'al': 1910, 'drew': 3312, 'roxie': 2115, 'brian': 2839, 'emerson': 2852, 'yana': 3309, 'ellie': 2135, 'robin': 3302, 'tin': 2118, 'maria': 1910}),\n",
      " 'jas': defaultdict(<type 'int'>, {'jes': 2234, 'arvi': 2981, 'ate': 2239, 'tin': 2331, 'mands': 3131, 'domo': 2289, 'emerson': 2226, 'ed': 2398, 'leni': 2155, 'brett': 2346, 'al': 2393, 'drew': 2959, 'aren': 2969, 'roxie': 2350, 'brian': 2237, 'ellie': 2241, 'yana': 2949, 'robin': 3014, 'alena': 2216, 'maria': 2342}),\n",
      " 'jes': defaultdict(<type 'int'>, {'alena': 2218, 'ed': 2387, 'al': 2353, 'tin': 2245, 'arvi': 2295, 'mands': 2366, 'aren': 2354, 'jas': 2137, 'brian': 2295, 'ellie': 2204, 'te': 2132, 'leni': 2146, 'brett': 2278, 'drew': 2419, 'roxie': 2307, 'dana_te': 2170, 'maria': 2314, 'ate': 2352, 'emerson': 2256, 'yana': 2313, 'gabe': 2140, 'robin': 2319}),\n",
      " 'leni': defaultdict(<type 'int'>, {'alena': 2122, 'ed': 1932, 'dana_te': 2056, 'al': 1996, 'jes': 2099, 'arvi': 2565, 'mands': 2463, 'aren': 2463, 'jas': 2104, 'brian': 2055, 'tin': 2098, 'te': 2114, 'domo': 2068, 'brett': 2128, 'drew': 2512, 'roxie': 2027, 'ellie': 2070, 'maria': 1989, 'ate': 2011, 'emerson': 2033, 'yana': 2438, 'gabe': 2158, 'robin': 2499}),\n",
      " 'mands': defaultdict(<type 'int'>, {'jas': 2564, 'ate': 2684, 'alena': 2734, 'brian': 2646, 'emerson': 2762, 'ed': 3018, 'leni': 2634, 'domo': 2880, 'brett': 2768, 'ellie': 2892, 'al': 2874, 'roxie': 2803, 'te': 2606, 'tin': 2920, 'dana_te': 2718, 'gabe': 2641, 'jes': 2855, 'maria': 3001}),\n",
      " 'maria': defaultdict(<type 'int'>, {'jes': 2018, 'arvi': 2705, 'ate': 1871, 'alena': 1934, 'mands': 2706, 'domo': 2037, 'aren': 2670, 'leni': 1911, 'brett': 2560, 'emerson': 1933, 'drew': 2687, 'jas': 2461, 'roxie': 2683, 'brian': 1951, 'ellie': 2580, 'gabe': 2385, 'yana': 2782, 'dana_te': 2388, 'te': 2426, 'robin': 2691, 'tin': 2621}),\n",
      " 'robin': defaultdict(<type 'int'>, {'jes': 1691, 'te': 4228, 'alena': 3194, 'ellie': 2270, 'ed': 1930, 'leni': 1643, 'domo': 1719, 'brett': 2253, 'jas': 4257, 'al': 2061, 'roxie': 2264, 'brian': 3156, 'emerson': 3177, 'ate': 3150, 'tin': 2272, 'dana_te': 4367, 'gabe': 4391, 'maria': 1977}),\n",
      " 'roxie': defaultdict(<type 'int'>, {'jes': 2247, 'arvi': 3120, 'ate': 2224, 'alena': 2157, 'mands': 3120, 'domo': 2228, 'aren': 3167, 'ed': 2149, 'leni': 2196, 'al': 2195, 'drew': 3183, 'jas': 2232, 'brian': 2297, 'emerson': 2171, 'yana': 3226, 'dana_te': 2269, 'te': 2311, 'gabe': 2295, 'robin': 3103, 'maria': 2110}),\n",
      " 'te': defaultdict(<type 'int'>, {'jes': 2301, 'arvi': 2883, 'ate': 2354, 'mands': 2865, 'alena': 2389, 'domo': 2218, 'aren': 2827, 'ed': 2358, 'leni': 2087, 'brett': 2441, 'tin': 2385, 'drew': 2781, 'al': 2368, 'roxie': 2406, 'brian': 2290, 'ellie': 2445, 'yana': 2934, 'emerson': 2391, 'robin': 2945, 'maria': 2332}),\n",
      " 'tin': defaultdict(<type 'int'>, {'jes': 2367, 'arvi': 2533, 'te': 2355, 'mands': 2616, 'alena': 2454, 'domo': 2345, 'aren': 2538, 'ed': 2687, 'leni': 2429, 'al': 2676, 'drew': 2618, 'jas': 2390, 'brian': 2384, 'emerson': 2517, 'ate': 2392, 'yana': 2610, 'dana_te': 2391, 'gabe': 2390, 'robin': 2639, 'maria': 2669}),\n",
      " 'yana': defaultdict(<type 'int'>, {'jes': 2180, 'te': 2637, 'alena': 3665, 'domo': 2069, 'emerson': 3909, 'ed': 2438, 'leni': 1952, 'brett': 2716, 'jas': 2515, 'al': 2444, 'roxie': 2748, 'brian': 3921, 'tin': 2692, 'ate': 3826, 'ellie': 2731, 'dana_te': 2574, 'gabe': 2571, 'maria': 2412})}\n"
     ]
    }
   ],
   "source": [
    "#todo find bug\n",
    "#run tests to see if each person has the same percentage to get everyone else\n",
    "from collections import defaultdict\n",
    "\n",
    "def test_secret_santa_outcomes(restrictions_dict):\n",
    "    iterations = 50000\n",
    "    result = {}\n",
    "    secret_santas = restrictions.keys()\n",
    "    \n",
    "    #create result dictionary\n",
    "    for santa in secret_santas:\n",
    "        result[santa] = defaultdict(int)\n",
    "\n",
    "    #loop through several iterations to see if outcomes happen equally\n",
    "    for i in range(iterations):\n",
    "        secret_santa_result = make_secret_santa_list(restrictions_dict)\n",
    "        for santa in secret_santas:\n",
    "            result[santa][secret_santa_result[santa]] += 1\n",
    "            \n",
    "    return result    \n",
    "    \n",
    "pprint.pprint(test_secret_santa_outcomes(restrictions))"
   ]
  },
  {
   "cell_type": "code",
   "execution_count": 91,
   "metadata": {
    "collapsed": false
   },
   "outputs": [],
   "source": [
    "#todo run iterations to make sure every list is valid\n",
    "#todo make list validator\n",
    "\n",
    "def validate_secret_santa_dict(secret_santa_dict):\n",
    "    result = True\n",
    "    santas = secret_santa_dict.keys()\n",
    "    matches = secret_santa_dict.values()\n",
    "    for santa in santas:\n",
    "        if santa not in matches:\n",
    "            result = False\n",
    "            print('santa is: ' + santa)\n",
    "            print('match is: ' + secret_santa_dict[santa])\n",
    "    if not result:\n",
    "        print(santas)\n",
    "        print(matches)\n",
    "    return result\n",
    "\n",
    "        \n",
    "    "
   ]
  },
  {
   "cell_type": "code",
   "execution_count": 107,
   "metadata": {
    "collapsed": false
   },
   "outputs": [
    {
     "name": "stdout",
     "output_type": "stream",
     "text": [
      "Trues: 10000\n",
      "Falses: 0\n"
     ]
    }
   ],
   "source": [
    "#validate many secret santa lists\n",
    "\n",
    "iterations = 10000\n",
    "t = 0\n",
    "f = 0\n",
    "\n",
    "for i in range(iterations):\n",
    "    l = make_secret_santa_list(restrictions_from_csv)\n",
    "    if validate_secret_santa_dict(l):\n",
    "        t += 1\n",
    "    else:\n",
    "        f += 1\n",
    "        print_secret_santa_list(l)\n",
    "        \n",
    "print('Trues: ' + str(t))\n",
    "print('Falses: ' + str(f))"
   ]
  },
  {
   "cell_type": "code",
   "execution_count": 86,
   "metadata": {
    "collapsed": true
   },
   "outputs": [],
   "source": [
    "#todo\n",
    "#create sometype of user input"
   ]
  },
  {
   "cell_type": "code",
   "execution_count": null,
   "metadata": {
    "collapsed": true
   },
   "outputs": [],
   "source": [
    "validate"
   ]
  }
 ],
 "metadata": {
  "anaconda-cloud": {},
  "kernelspec": {
   "display_name": "Python [conda env:DAND]",
   "language": "python",
   "name": "conda-env-DAND-py"
  },
  "language_info": {
   "codemirror_mode": {
    "name": "ipython",
    "version": 2
   },
   "file_extension": ".py",
   "mimetype": "text/x-python",
   "name": "python",
   "nbconvert_exporter": "python",
   "pygments_lexer": "ipython2",
   "version": "2.7.12"
  }
 },
 "nbformat": 4,
 "nbformat_minor": 2
}
