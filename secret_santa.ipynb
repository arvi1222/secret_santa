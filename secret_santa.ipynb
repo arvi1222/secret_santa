{
 "cells": [
  {
   "cell_type": "code",
   "execution_count": 117,
   "metadata": {
    "collapsed": false
   },
   "outputs": [],
   "source": [
    "import random\n",
    "\n",
    "#restricted matches\n",
    "al = ['ed', 'maria']\n",
    "alena = ['emerson', 'ate', 'brian']\n",
    "mands = ['arvi', 'yana', 'aren', 'drew', 'robin']\n",
    "aren = ['arvi', 'yana', 'mands', 'drew', 'robin']\n",
    "yana = ['arvi', 'mands', 'aren', 'drew', 'robin']\n",
    "arvi = ['robin', 'mands', 'yana', 'aren', 'drew']\n",
    "brett = ['tin', 'roxie', 'ellie']\n",
    "brian = ['ate', 'emerson', 'alena']\n",
    "te = ['jas', 'gabe', 'dana_te']\n",
    "dana_te = ['te', 'jas', 'gabe']\n",
    "drew = ['mands', 'arvi', 'aren', 'yana', 'robin']\n",
    "ed = ['al', 'maria']\n",
    "ellie = ['brett', 'tin', 'roxie']\n",
    "emerson = ['ate', 'alena', 'brian']\n",
    "gabe = ['jas', 'te', 'dana_te']\n",
    "jas = ['gabe', 'te', 'dana_te']\n",
    "jes = ['domo']\n",
    "maria = ['al', 'ed']\n",
    "robin = ['arvi', 'aren', 'yana', 'drew', 'mands']\n",
    "roxie = ['brett', 'tin', 'ellie']\n",
    "tin = ['ellie', 'brett', 'roxie']\n",
    "ate = ['brian', 'emerson', 'alena']\n",
    "domo = ['jes']\n",
    "leni = []\n",
    "\n",
    "#combine restriction lists into dictionary\n",
    "restrictions = {'al': al, 'alena': alena, 'mands': mands, 'aren':aren, 'yana':yana, 'arvi':arvi, 'brett':brett, \\\n",
    "          'brian': brian, 'te': te, 'dana_te': dana_te, 'drew': drew, 'ed': ed, 'ellie': ellie, 'emerson':emerson, \\\n",
    "          'gabe': gabe, 'jas': jas, 'jes': jes, 'maria': maria, 'robin': robin, 'roxie': roxie, \\\n",
    "          'tin': tin, 'ate': ate, 'domo': domo, 'leni': leni}\n",
    "\n",
    "#checks if the person being matched has any possible matches from remaining unmatched pool\n",
    "def is_matchable(person, pos_matches):\n",
    "    result = False\n",
    "    \n",
    "    for possible_match in pos_matches:\n",
    "        if possible_match != person and possible_match not in restrictions[person]:\n",
    "            result = True\n",
    "    return result\n",
    "\n",
    "#creates secret santa list from list of possible santas\n",
    "#returns match list if possible, None if not\n",
    "def match_santas(restrictions_dict):\n",
    "    unmatched = restrictions_dict.keys()\n",
    "    matches = {}\n",
    "    \n",
    "    shuffled_santas = list(unmatched)\n",
    "    random.shuffle(shuffled_santas)\n",
    "    \n",
    "    for person in shuffled_santas:\n",
    "        not_matched = True\n",
    "        finished = True\n",
    "    \n",
    "        if not is_matchable(person, unmatched):\n",
    "            not_matched = False\n",
    "            finished = False\n",
    "    \n",
    "        while not_matched:\n",
    "            i = random.randint(0, len(unmatched)-1)\n",
    "            if person != unmatched[i] and unmatched[i] not in restrictions_dict[person]:\n",
    "                matches[person] = unmatched[i]\n",
    "                unmatched.pop(i)\n",
    "                not_matched = False\n",
    "                \n",
    "    if finished and len(matches) == 24:\n",
    "        return matches\n",
    "    else:\n",
    "        return None\n",
    "\n",
    "#return a complete secret santa list\n",
    "def make_secret_santa_list(restrictions_dict):\n",
    "    result = None\n",
    "    \n",
    "    #check that every santa is matched\n",
    "    while not result:\n",
    "        result = match_santas(restrictions)\n",
    "    \n",
    "    return result\n",
    "\n",
    "#check that every secret santa is also someone's match\n",
    "def validate_secret_santa_dict(secret_santa_dict):\n",
    "    result = True\n",
    "    santas = secret_santa_dict.keys()\n",
    "    matches = secret_santa_dict.values()\n",
    "    for santa in santas:\n",
    "        if santa not in matches:\n",
    "            result = False\n",
    "            print('santa is: ' + santa)\n",
    "            print('match is: ' + secret_santa_dict[santa])\n",
    "    if not result:\n",
    "        print(santas)\n",
    "        print(matches)\n",
    "    return result\n",
    "\n",
    "\n",
    "#print out secret santa list\n",
    "def print_secret_santa_list(restrictions_dict):\n",
    "    for key, value in make_secret_santa_list(restrictions_dict).iteritems():\n",
    "        print(\"{} -> {}\".format(key, value))       "
   ]
  },
  {
   "cell_type": "code",
   "execution_count": 72,
   "metadata": {
    "collapsed": false
   },
   "outputs": [],
   "source": [
    "import pandas as pd\n",
    "import pprint\n",
    "\n",
    "filename = 'restrictions.csv'\n",
    "\n",
    "#returns dictionary of list of restrictions for each secret santa\n",
    "#param f must be csv\n",
    "def create_restrictions(f):\n",
    "\n",
    "    df = pd.read_csv(f)\n",
    "    \n",
    "    #list of all secret santas\n",
    "    s_santas = list(df.columns)\n",
    "\n",
    "    restrictions = {}\n",
    "\n",
    "    for santa in s_santas:\n",
    "        restrictions[santa] = list(df.loc[:,santa].dropna())\n",
    "        \n",
    "    return validate_restrictions_list(restrictions)\n",
    "\n",
    "#takes dictionary of lists as argument\n",
    "#checks that each restriction on the list is an actual santa\n",
    "def validate_restrictions_list(res_dict):\n",
    "    result = res_dict\n",
    "    santas = res_dict.keys()\n",
    "    for santa in santas:\n",
    "        for restriction in res_dict[santa]:\n",
    "            if restriction not in santas:\n",
    "                print(restriction + \" is not a possible santa! for \" + santa)\n",
    "                result = None\n",
    "    return result"
   ]
  },
  {
   "cell_type": "code",
   "execution_count": 122,
   "metadata": {
    "collapsed": false
   },
   "outputs": [
    {
     "name": "stdout",
     "output_type": "stream",
     "text": [
      "{'al': defaultdict(<type 'int'>, {'jes': 2078, 'arvi': 2665, 'ate': 2318, 'alena': 2350, 'mands': 2695, 'domo': 2155, 'aren': 2635, 'leni': 2056, 'brett': 2296, 'jas': 2307, 'drew': 2674, 'roxie': 2307, 'brian': 2324, 'ellie': 2241, 'yana': 2691, 'dana_te': 2328, 'te': 2354, 'gabe': 2231, 'emerson': 2304, 'robin': 2680, 'tin': 2311}),\n",
      " 'alena': defaultdict(<type 'int'>, {'jes': 2147, 'arvi': 2837, 'gabe': 2449, 'tin': 2411, 'mands': 2835, 'domo': 2200, 'aren': 2913, 'ed': 2237, 'leni': 2155, 'brett': 2349, 'jas': 2403, 'drew': 2915, 'al': 2284, 'roxie': 2447, 'ellie': 2499, 'yana': 2818, 'dana_te': 2434, 'te': 2400, 'robin': 2937, 'maria': 2330}),\n",
      " 'aren': defaultdict(<type 'int'>, {'jes': 2490, 'ate': 2892, 'alena': 2902, 'domo': 2537, 'emerson': 2821, 'ed': 2700, 'leni': 2549, 'brett': 2907, 'al': 2800, 'jas': 2782, 'roxie': 2875, 'brian': 2774, 'ellie': 2864, 'gabe': 2891, 'tin': 2846, 'dana_te': 2885, 'te': 2817, 'maria': 2668}),\n",
      " 'arvi': defaultdict(<type 'int'>, {'jes': 2611, 'te': 2820, 'alena': 2875, 'domo': 2515, 'emerson': 2831, 'ed': 2647, 'leni': 2451, 'brett': 2918, 'jas': 2934, 'al': 2698, 'roxie': 2855, 'brian': 2859, 'tin': 2832, 'ate': 2839, 'ellie': 2897, 'dana_te': 2853, 'gabe': 2822, 'maria': 2743}),\n",
      " 'ate': defaultdict(<type 'int'>, {'jes': 2187, 'arvi': 2825, 'gabe': 2551, 'mands': 2782, 'domo': 2179, 'aren': 2799, 'ed': 2385, 'leni': 2056, 'brett': 2351, 'al': 2310, 'drew': 2752, 'jas': 2411, 'roxie': 2530, 'tin': 2499, 'yana': 2910, 'ellie': 2364, 'dana_te': 2461, 'te': 2409, 'robin': 2884, 'maria': 2355}),\n",
      " 'brett': defaultdict(<type 'int'>, {'jes': 2159, 'arvi': 2814, 'gabe': 2535, 'mands': 2885, 'alena': 2414, 'domo': 2152, 'aren': 2917, 'ed': 2261, 'leni': 2165, 'jas': 2402, 'drew': 2887, 'al': 2238, 'brian': 2425, 'emerson': 2465, 'ate': 2442, 'yana': 2816, 'dana_te': 2364, 'te': 2380, 'robin': 2951, 'maria': 2328}),\n",
      " 'brian': defaultdict(<type 'int'>, {'jes': 2267, 'arvi': 2895, 'te': 2449, 'tin': 2431, 'mands': 2930, 'domo': 2111, 'aren': 2884, 'ed': 2339, 'leni': 2142, 'brett': 2499, 'jas': 2383, 'drew': 2782, 'al': 2201, 'roxie': 2403, 'ellie': 2448, 'yana': 2871, 'dana_te': 2437, 'gabe': 2429, 'robin': 2809, 'maria': 2290}),\n",
      " 'dana_te': defaultdict(<type 'int'>, {'jes': 2185, 'arvi': 2870, 'ate': 2476, 'alena': 2469, 'mands': 2782, 'domo': 2161, 'aren': 2833, 'ed': 2215, 'leni': 2048, 'brett': 2483, 'tin': 2451, 'drew': 2874, 'al': 2384, 'roxie': 2429, 'brian': 2469, 'emerson': 2419, 'yana': 2936, 'ellie': 2378, 'robin': 2845, 'maria': 2293}),\n",
      " 'domo': defaultdict(<type 'int'>, {'alena': 2180, 'ellie': 2207, 'ed': 2019, 'al': 2075, 'arvi': 2486, 'mands': 2638, 'aren': 2560, 'jas': 2238, 'brian': 2214, 'tin': 2254, 'te': 2250, 'leni': 1820, 'brett': 2147, 'drew': 2741, 'roxie': 2239, 'dana_te': 2152, 'maria': 2062, 'ate': 2158, 'emerson': 2256, 'yana': 2533, 'gabe': 2215, 'robin': 2556}),\n",
      " 'drew': defaultdict(<type 'int'>, {'jes': 2573, 'ate': 2927, 'alena': 2831, 'domo': 2622, 'ed': 2724, 'leni': 2446, 'dana_te': 2844, 'brett': 2827, 'al': 2751, 'jas': 2825, 'roxie': 2797, 'brian': 2931, 'emerson': 2916, 'tin': 2806, 'ellie': 2831, 'te': 2874, 'gabe': 2850, 'maria': 2625}),\n",
      " 'ed': defaultdict(<type 'int'>, {'jes': 2071, 'arvi': 2788, 'ate': 2266, 'alena': 2283, 'mands': 2698, 'domo': 2098, 'emerson': 2333, 'leni': 1980, 'dana_te': 2298, 'brett': 2320, 'jas': 2226, 'drew': 2691, 'aren': 2708, 'roxie': 2179, 'brian': 2435, 'tin': 2249, 'yana': 2690, 'ellie': 2361, 'te': 2279, 'gabe': 2264, 'robin': 2783}),\n",
      " 'ellie': defaultdict(<type 'int'>, {'jes': 2218, 'arvi': 2924, 'ate': 2457, 'mands': 2842, 'alena': 2409, 'domo': 2208, 'aren': 2776, 'ed': 2370, 'leni': 2104, 'jas': 2436, 'drew': 2904, 'al': 2280, 'gabe': 2446, 'brian': 2385, 'emerson': 2508, 'yana': 2865, 'dana_te': 2391, 'te': 2397, 'robin': 2829, 'maria': 2251}),\n",
      " 'emerson': defaultdict(<type 'int'>, {'jes': 2210, 'arvi': 2873, 'te': 2555, 'tin': 2403, 'mands': 2898, 'domo': 2214, 'aren': 2856, 'ed': 2272, 'leni': 2010, 'brett': 2432, 'al': 2361, 'drew': 2765, 'jas': 2487, 'roxie': 2406, 'ellie': 2381, 'yana': 2807, 'dana_te': 2535, 'gabe': 2340, 'robin': 2845, 'maria': 2350}),\n",
      " 'gabe': defaultdict(<type 'int'>, {'jes': 2084, 'arvi': 2841, 'ate': 2430, 'mands': 2847, 'alena': 2468, 'domo': 2243, 'aren': 2918, 'ed': 2344, 'leni': 2122, 'brett': 2431, 'tin': 2399, 'drew': 2840, 'al': 2350, 'roxie': 2444, 'brian': 2444, 'ellie': 2479, 'yana': 2791, 'emerson': 2385, 'robin': 2822, 'maria': 2318}),\n",
      " 'jas': defaultdict(<type 'int'>, {'jes': 2243, 'arvi': 2855, 'ate': 2413, 'tin': 2417, 'mands': 2874, 'domo': 2211, 'aren': 2812, 'ed': 2351, 'leni': 2039, 'brett': 2454, 'emerson': 2425, 'drew': 2873, 'al': 2260, 'roxie': 2419, 'brian': 2392, 'ellie': 2485, 'yana': 2854, 'robin': 2851, 'alena': 2433, 'maria': 2339}),\n",
      " 'jes': defaultdict(<type 'int'>, {'alena': 2165, 'ed': 2079, 'al': 2152, 'tin': 2190, 'arvi': 2665, 'mands': 2578, 'aren': 2556, 'jas': 2267, 'brian': 2189, 'ellie': 2156, 'te': 2179, 'leni': 1964, 'brett': 2126, 'drew': 2597, 'roxie': 2225, 'dana_te': 2215, 'maria': 2047, 'ate': 2187, 'emerson': 2067, 'yana': 2579, 'gabe': 2198, 'robin': 2619}),\n",
      " 'leni': defaultdict(<type 'int'>, {'alena': 2120, 'ed': 2040, 'al': 1974, 'tin': 2113, 'jes': 1983, 'arvi': 2526, 'mands': 2448, 'aren': 2413, 'jas': 2164, 'brian': 2115, 'ellie': 2060, 'te': 2069, 'domo': 1873, 'brett': 2105, 'drew': 2435, 'roxie': 2175, 'dana_te': 2141, 'maria': 2048, 'ate': 2107, 'emerson': 2097, 'yana': 2487, 'gabe': 2102, 'robin': 2405}),\n",
      " 'mands': defaultdict(<type 'int'>, {'jes': 2576, 'ate': 2863, 'alena': 2769, 'ellie': 2879, 'emerson': 2931, 'ed': 2720, 'leni': 2468, 'domo': 2646, 'brett': 2875, 'al': 2690, 'jas': 2781, 'roxie': 2782, 'brian': 2862, 'tin': 2804, 'dana_te': 2822, 'te': 2947, 'gabe': 2887, 'maria': 2698}),\n",
      " 'maria': defaultdict(<type 'int'>, {'jes': 2117, 'arvi': 2681, 'ate': 2227, 'alena': 2323, 'mands': 2583, 'domo': 2129, 'aren': 2752, 'leni': 2024, 'dana_te': 2270, 'brett': 2353, 'jas': 2305, 'drew': 2727, 'roxie': 2308, 'brian': 2247, 'emerson': 2283, 'yana': 2724, 'ellie': 2340, 'te': 2293, 'gabe': 2258, 'robin': 2728, 'tin': 2328}),\n",
      " 'robin': defaultdict(<type 'int'>, {'jes': 2599, 'ate': 2918, 'alena': 2850, 'maria': 2665, 'domo': 2555, 'ed': 2698, 'leni': 2463, 'dana_te': 2850, 'brett': 2779, 'al': 2687, 'jas': 2893, 'roxie': 2842, 'brian': 2894, 'emerson': 2894, 'ellie': 2887, 'te': 2807, 'gabe': 2856, 'tin': 2863}),\n",
      " 'roxie': defaultdict(<type 'int'>, {'jes': 2260, 'arvi': 2835, 'ate': 2358, 'alena': 2461, 'mands': 2950, 'jas': 2469, 'aren': 2901, 'ed': 2278, 'leni': 2131, 'domo': 2258, 'al': 2254, 'drew': 2871, 'gabe': 2366, 'brian': 2404, 'emerson': 2484, 'yana': 2848, 'dana_te': 2412, 'te': 2348, 'robin': 2856, 'maria': 2256}),\n",
      " 'te': defaultdict(<type 'int'>, {'jes': 2208, 'arvi': 2814, 'ate': 2460, 'mands': 2886, 'alena': 2376, 'domo': 2209, 'aren': 2837, 'ed': 2369, 'leni': 2102, 'brett': 2512, 'al': 2348, 'drew': 2806, 'roxie': 2431, 'brian': 2437, 'tin': 2426, 'yana': 2851, 'ellie': 2420, 'emerson': 2353, 'robin': 2826, 'maria': 2329}),\n",
      " 'tin': defaultdict(<type 'int'>, {'jes': 2094, 'arvi': 2806, 'ate': 2480, 'alena': 2403, 'mands': 2849, 'domo': 2178, 'aren': 2930, 'ed': 2355, 'leni': 2187, 'al': 2302, 'drew': 2866, 'jas': 2454, 'gabe': 2466, 'brian': 2365, 'emerson': 2406, 'yana': 2929, 'dana_te': 2399, 'te': 2468, 'robin': 2774, 'maria': 2289}),\n",
      " 'yana': defaultdict(<type 'int'>, {'jes': 2640, 'ate': 2782, 'roxie': 2907, 'alena': 2919, 'domo': 2546, 'ed': 2597, 'leni': 2518, 'brett': 2836, 'al': 2601, 'jas': 2833, 'gabe': 2844, 'brian': 2835, 'emerson': 2822, 'maria': 2716, 'ellie': 2823, 'dana_te': 2909, 'te': 2905, 'tin': 2967})}\n"
     ]
    }
   ],
   "source": [
    "#run tests to see if each person has the same percentage to get everyone else\n",
    "\n",
    "from collections import defaultdict\n",
    "\n",
    "#run iterations to check how often people get others\n",
    "def test_secret_santa_outcomes(restrictions_dict):\n",
    "    iterations = 50000\n",
    "    result = {}\n",
    "    secret_santas = restrictions.keys()\n",
    "    \n",
    "    #create result dictionary\n",
    "    for santa in secret_santas:\n",
    "        result[santa] = defaultdict(int)\n",
    "\n",
    "    #loop through several iterations to see if outcomes happen equally\n",
    "    for i in range(iterations):\n",
    "        secret_santa_result = make_secret_santa_list(restrictions_dict)\n",
    "        for santa in secret_santas:\n",
    "            result[santa][secret_santa_result[santa]] += 1\n",
    "            \n",
    "    return result    \n",
    "    \n",
    "pprint.pprint(test_secret_santa_outcomes(restrictions))"
   ]
  },
  {
   "cell_type": "code",
   "execution_count": 125,
   "metadata": {
    "collapsed": false
   },
   "outputs": [
    {
     "name": "stdout",
     "output_type": "stream",
     "text": [
      "defaultdict(<type 'int'>, {'alena': 50000, 'ed': 50000, 'al': 50000, 'tin': 50000, 'jes': 50000, 'arvi': 50000, 'mands': 50000, 'aren': 50000, 'jas': 50000, 'brian': 50000, 'ellie': 50000, 'te': 50000, 'domo': 50000, 'leni': 50000, 'brett': 50000, 'drew': 50000, 'roxie': 50000, 'dana_te': 50000, 'maria': 50000, 'ate': 50000, 'emerson': 50000, 'yana': 50000, 'gabe': 50000, 'robin': 50000})\n"
     ]
    }
   ],
   "source": [
    "#check that everyone gets matched the same number of times\n",
    "outcomes = test_secret_santa_outcomes(restrictions)\n",
    "\n",
    "counts = defaultdict(int)\n",
    "\n",
    "for santa in outcomes:\n",
    "    for match in outcomes[santa]:\n",
    "        counts[match] += outcomes[santa][match]\n",
    "        \n",
    "pprint.pprint(counts)"
   ]
  },
  {
   "cell_type": "code",
   "execution_count": 128,
   "metadata": {
    "collapsed": false
   },
   "outputs": [
    {
     "name": "stdout",
     "output_type": "stream",
     "text": [
      "alena -> arvi\n",
      "ed -> brett\n",
      "dana_te -> roxie\n",
      "al -> yana\n",
      "jes -> maria\n",
      "arvi -> jas\n",
      "mands -> emerson\n",
      "aren -> al\n",
      "jas -> mands\n",
      "brian -> ed\n",
      "tin -> robin\n",
      "te -> tin\n",
      "domo -> te\n",
      "leni -> drew\n",
      "brett -> alena\n",
      "drew -> ate\n",
      "roxie -> gabe\n",
      "ellie -> brian\n",
      "maria -> domo\n",
      "ate -> ellie\n",
      "emerson -> aren\n",
      "yana -> dana_te\n",
      "gabe -> leni\n",
      "robin -> jes\n"
     ]
    }
   ],
   "source": [
    "print_secret_santa_list(restrictions_from_csv)"
   ]
  },
  {
   "cell_type": "code",
   "execution_count": 86,
   "metadata": {
    "collapsed": true
   },
   "outputs": [],
   "source": [
    "#todo\n",
    "#create sometype of user input"
   ]
  }
 ],
 "metadata": {
  "anaconda-cloud": {},
  "kernelspec": {
   "display_name": "Python [conda env:DAND]",
   "language": "python",
   "name": "conda-env-DAND-py"
  },
  "language_info": {
   "codemirror_mode": {
    "name": "ipython",
    "version": 2
   },
   "file_extension": ".py",
   "mimetype": "text/x-python",
   "name": "python",
   "nbconvert_exporter": "python",
   "pygments_lexer": "ipython2",
   "version": "2.7.12"
  }
 },
 "nbformat": 4,
 "nbformat_minor": 2
}
